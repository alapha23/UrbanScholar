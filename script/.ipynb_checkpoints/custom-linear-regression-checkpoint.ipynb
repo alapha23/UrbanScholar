{
 "cells": [
  {
   "cell_type": "code",
   "execution_count": 1,
   "id": "961e057e",
   "metadata": {
    "execution": {
     "iopub.execute_input": "2022-07-13T15:16:52.003314Z",
     "iopub.status.busy": "2022-07-13T15:16:52.002646Z",
     "iopub.status.idle": "2022-07-13T15:16:53.520579Z",
     "shell.execute_reply": "2022-07-13T15:16:53.519559Z"
    },
    "papermill": {
     "duration": 1.532631,
     "end_time": "2022-07-13T15:16:53.523354",
     "exception": false,
     "start_time": "2022-07-13T15:16:51.990723",
     "status": "completed"
    },
    "tags": []
   },
   "outputs": [],
   "source": [
    "import numpy as np \n",
    "import pandas as pd\n",
    "import matplotlib.pyplot as plt\n",
    "import seaborn as sns\n",
    "from sklearn.datasets import make_regression\n",
    "from sklearn.model_selection import train_test_split"
   ]
  },
  {
   "cell_type": "markdown",
   "id": "ff87ae4e",
   "metadata": {
    "papermill": {
     "duration": 0.007204,
     "end_time": "2022-07-13T15:16:53.537806",
     "exception": false,
     "start_time": "2022-07-13T15:16:53.530602",
     "status": "completed"
    },
    "tags": []
   },
   "source": [
    "# Linear Regression Model\n",
    "Linear Regression is the most basic predictive model. It works on the idea of computing the value of a target variable using one or more independent variable(s)."
   ]
  },
  {
   "cell_type": "markdown",
   "id": "38814cfc",
   "metadata": {
    "papermill": {
     "duration": 0.006047,
     "end_time": "2022-07-13T15:16:53.550291",
     "exception": false,
     "start_time": "2022-07-13T15:16:53.544244",
     "status": "completed"
    },
    "tags": []
   },
   "source": [
    "### Here I have defined my own linear regression model with several methods:¶\n",
    "* fit(X, y) : initialising weights and bias for our model and updating them based on gradient descent algorithm\n",
    "* predict(X) : make predictions using the fitted weights and bias\n",
    "* rmse(y, y_pred) : Root Mean Squared Error - performance metric to test our model\n",
    "* r_squared(y, y_pred) : R squared metric based on Analysis of Variance (ANOVA)\n",
    "* adjusted_r_squared(y, y_pred) : Ajusted R squared metric to overcome the problems of R squared\n",
    "* weights & bias : properties that return weights and bias respectively <br>\n",
    "\n",
    "### There are hyperparameters such as:\n",
    "* learning_rate : rate at which the parameters of the model are updated\n",
    "* iterations : number of times the parameters are updated before a reasonable output is obtained. Too many iterations can lead to overfitting of the model"
   ]
  },
  {
   "cell_type": "code",
   "execution_count": 2,
   "id": "f3609190",
   "metadata": {
    "execution": {
     "iopub.execute_input": "2022-07-13T15:16:53.565485Z",
     "iopub.status.busy": "2022-07-13T15:16:53.565034Z",
     "iopub.status.idle": "2022-07-13T15:16:53.579532Z",
     "shell.execute_reply": "2022-07-13T15:16:53.578690Z"
    },
    "papermill": {
     "duration": 0.024831,
     "end_time": "2022-07-13T15:16:53.581860",
     "exception": false,
     "start_time": "2022-07-13T15:16:53.557029",
     "status": "completed"
    },
    "tags": []
   },
   "outputs": [],
   "source": [
    "class Linear_Regression:\n",
    "    \n",
    "    def __init__(self, learning_rate=0.1, iterations=100):\n",
    "        self.learning_rate = learning_rate\n",
    "        self.iterations = iterations\n",
    "    \n",
    "    def fit(self, X, y):\n",
    "        self.X = X\n",
    "        self.y = y\n",
    "        self.m, self.n = X.shape\n",
    "        self.w = np.random.rand(self.n)\n",
    "        self.b = 0\n",
    "        \n",
    "        for i in range(self.iterations):\n",
    "            y_pred = np.dot(X, self.w) + self.b\n",
    "            gW = - ( 2 * np.dot(X.T, (self.y - y_pred))) / self.m\n",
    "            gb = - 2 * np.sum( self.y - y_pred ) / self.m \n",
    "            self.w = self.w - self.learning_rate*gW\n",
    "            self.b = self.b - self.learning_rate*gb\n",
    "        \n",
    "    def predict(self, X):\n",
    "        return np.dot(X, self.w) + self.b\n",
    "    \n",
    "    def rmse(self, y, y_pred):\n",
    "        \"\"\" Root mean squared error \"\"\"\n",
    "        return np.sqrt(np.mean(np.square(y - y_pred)))\n",
    "    \n",
    "    def r_squared(self, y, y_pred):\n",
    "        \"\"\" R-squared metric \"\"\"\n",
    "        return 1 - ((np.sum(np.square(y-y_pred)))/(np.sum(np.square(y-np.mean(y)))))\n",
    "    \n",
    "    def adjusted_r_squared(self, y, y_pred):\n",
    "        \"\"\" Adjusted R-squared metric\"\"\"\n",
    "        return 1 - ((1-self.r_squared(y, y_pred))*(self.m - 1)/ (self.m - self.n - 1))\n",
    "        \n",
    "    @property\n",
    "    def weights(self):\n",
    "        return self.w\n",
    "    \n",
    "    @property\n",
    "    def bias(self):\n",
    "        return self.b"
   ]
  },
  {
   "cell_type": "code",
   "execution_count": 3,
   "id": "4267cf36",
   "metadata": {
    "execution": {
     "iopub.execute_input": "2022-07-13T15:16:53.597331Z",
     "iopub.status.busy": "2022-07-13T15:16:53.596635Z",
     "iopub.status.idle": "2022-07-13T15:16:53.629529Z",
     "shell.execute_reply": "2022-07-13T15:16:53.628634Z"
    },
    "papermill": {
     "duration": 0.043343,
     "end_time": "2022-07-13T15:16:53.631885",
     "exception": false,
     "start_time": "2022-07-13T15:16:53.588542",
     "status": "completed"
    },
    "tags": []
   },
   "outputs": [],
   "source": [
    "X, y = make_regression(n_samples=500, n_features=5, noise=20, random_state=1)\n",
    "\n",
    "X_train, X_test, y_train, y_test = train_test_split(X, y, test_size=0.20, random_state=1)\n",
    "\n",
    "lr = Linear_Regression(iterations=500)\n",
    "lr.fit(X_train, y_train)\n",
    "pred = lr.predict(X_test)\n",
    "rmse = lr.rmse(y_test, pred)\n",
    "rsq = lr.r_squared(y_test, pred)\n",
    "a_rsq = lr.adjusted_r_squared(y_test, pred)\n",
    "df = pd.DataFrame({'Predictions':pred, 'True_Values':y_test}).head()"
   ]
  },
  {
   "cell_type": "code",
   "execution_count": 4,
   "id": "b73c3c46",
   "metadata": {
    "execution": {
     "iopub.execute_input": "2022-07-13T15:16:53.646887Z",
     "iopub.status.busy": "2022-07-13T15:16:53.646337Z",
     "iopub.status.idle": "2022-07-13T15:16:53.654296Z",
     "shell.execute_reply": "2022-07-13T15:16:53.653171Z"
    },
    "papermill": {
     "duration": 0.018801,
     "end_time": "2022-07-13T15:16:53.657215",
     "exception": false,
     "start_time": "2022-07-13T15:16:53.638414",
     "status": "completed"
    },
    "tags": []
   },
   "outputs": [
    {
     "name": "stdout",
     "output_type": "stream",
     "text": [
      "Weights for the feature variables: [36.68572442 35.5729466  47.99009392 22.98317372 86.85871684]\n",
      "Bias: 0.557\n",
      "==================================================\n",
      "range of samples: [-3.1533574501910486 3.9586027040379634]\n",
      "==================================================\n",
      "Root Mean Squared Error: 18.7172\n",
      "==================================================\n",
      "R-squared: 0.9706\n",
      "Adjusted R-squared: 0.9703\n"
     ]
    }
   ],
   "source": [
    "print(f\"Weights for the feature variables: {lr.weights}\")\n",
    "print(f\"Bias: {lr.bias:.3f}\")\n",
    "print('='*50)\n",
    "print(f'range of samples: [{np.min(X)} {np.max(X)}]')\n",
    "print('='*50)\n",
    "print(f'Root Mean Squared Error: {rmse:.4f}')\n",
    "print('='*50)\n",
    "print(f'R-squared: {rsq:.4f}')\n",
    "print(f'Adjusted R-squared: {a_rsq:.4f}')"
   ]
  },
  {
   "cell_type": "markdown",
   "id": "083040b0",
   "metadata": {
    "papermill": {
     "duration": 0.006609,
     "end_time": "2022-07-13T15:16:53.670631",
     "exception": false,
     "start_time": "2022-07-13T15:16:53.664022",
     "status": "completed"
    },
    "tags": []
   },
   "source": [
    "Our model seems to work well with sample data, producing great results. **But the real test would be to see if it works with real world data**"
   ]
  },
  {
   "cell_type": "code",
   "execution_count": 5,
   "id": "1a0eaa33",
   "metadata": {
    "execution": {
     "iopub.execute_input": "2022-07-13T15:16:53.686356Z",
     "iopub.status.busy": "2022-07-13T15:16:53.685650Z",
     "iopub.status.idle": "2022-07-13T15:16:53.770184Z",
     "shell.execute_reply": "2022-07-13T15:16:53.769152Z"
    },
    "papermill": {
     "duration": 0.095269,
     "end_time": "2022-07-13T15:16:53.772839",
     "exception": false,
     "start_time": "2022-07-13T15:16:53.677570",
     "status": "completed"
    },
    "tags": []
   },
   "outputs": [
    {
     "data": {
      "text/html": [
       "<div>\n",
       "<style scoped>\n",
       "    .dataframe tbody tr th:only-of-type {\n",
       "        vertical-align: middle;\n",
       "    }\n",
       "\n",
       "    .dataframe tbody tr th {\n",
       "        vertical-align: top;\n",
       "    }\n",
       "\n",
       "    .dataframe thead th {\n",
       "        text-align: right;\n",
       "    }\n",
       "</style>\n",
       "<table border=\"1\" class=\"dataframe\">\n",
       "  <thead>\n",
       "    <tr style=\"text-align: right;\">\n",
       "      <th></th>\n",
       "      <th>longitude</th>\n",
       "      <th>latitude</th>\n",
       "      <th>housing_median_age</th>\n",
       "      <th>total_rooms</th>\n",
       "      <th>total_bedrooms</th>\n",
       "      <th>population</th>\n",
       "      <th>households</th>\n",
       "      <th>median_income</th>\n",
       "      <th>median_house_value</th>\n",
       "      <th>ocean_proximity</th>\n",
       "    </tr>\n",
       "  </thead>\n",
       "  <tbody>\n",
       "    <tr>\n",
       "      <th>0</th>\n",
       "      <td>-122.23</td>\n",
       "      <td>37.88</td>\n",
       "      <td>41.0</td>\n",
       "      <td>880.0</td>\n",
       "      <td>129.0</td>\n",
       "      <td>322.0</td>\n",
       "      <td>126.0</td>\n",
       "      <td>8.3252</td>\n",
       "      <td>452600.0</td>\n",
       "      <td>NEAR BAY</td>\n",
       "    </tr>\n",
       "    <tr>\n",
       "      <th>1</th>\n",
       "      <td>-122.22</td>\n",
       "      <td>37.86</td>\n",
       "      <td>21.0</td>\n",
       "      <td>7099.0</td>\n",
       "      <td>1106.0</td>\n",
       "      <td>2401.0</td>\n",
       "      <td>1138.0</td>\n",
       "      <td>8.3014</td>\n",
       "      <td>358500.0</td>\n",
       "      <td>NEAR BAY</td>\n",
       "    </tr>\n",
       "    <tr>\n",
       "      <th>2</th>\n",
       "      <td>-122.24</td>\n",
       "      <td>37.85</td>\n",
       "      <td>52.0</td>\n",
       "      <td>1467.0</td>\n",
       "      <td>190.0</td>\n",
       "      <td>496.0</td>\n",
       "      <td>177.0</td>\n",
       "      <td>7.2574</td>\n",
       "      <td>352100.0</td>\n",
       "      <td>NEAR BAY</td>\n",
       "    </tr>\n",
       "    <tr>\n",
       "      <th>3</th>\n",
       "      <td>-122.25</td>\n",
       "      <td>37.85</td>\n",
       "      <td>52.0</td>\n",
       "      <td>1274.0</td>\n",
       "      <td>235.0</td>\n",
       "      <td>558.0</td>\n",
       "      <td>219.0</td>\n",
       "      <td>5.6431</td>\n",
       "      <td>341300.0</td>\n",
       "      <td>NEAR BAY</td>\n",
       "    </tr>\n",
       "    <tr>\n",
       "      <th>4</th>\n",
       "      <td>-122.25</td>\n",
       "      <td>37.85</td>\n",
       "      <td>52.0</td>\n",
       "      <td>1627.0</td>\n",
       "      <td>280.0</td>\n",
       "      <td>565.0</td>\n",
       "      <td>259.0</td>\n",
       "      <td>3.8462</td>\n",
       "      <td>342200.0</td>\n",
       "      <td>NEAR BAY</td>\n",
       "    </tr>\n",
       "  </tbody>\n",
       "</table>\n",
       "</div>"
      ],
      "text/plain": [
       "   longitude  latitude  housing_median_age  total_rooms  total_bedrooms  \\\n",
       "0    -122.23     37.88                41.0        880.0           129.0   \n",
       "1    -122.22     37.86                21.0       7099.0          1106.0   \n",
       "2    -122.24     37.85                52.0       1467.0           190.0   \n",
       "3    -122.25     37.85                52.0       1274.0           235.0   \n",
       "4    -122.25     37.85                52.0       1627.0           280.0   \n",
       "\n",
       "   population  households  median_income  median_house_value ocean_proximity  \n",
       "0       322.0       126.0         8.3252            452600.0        NEAR BAY  \n",
       "1      2401.0      1138.0         8.3014            358500.0        NEAR BAY  \n",
       "2       496.0       177.0         7.2574            352100.0        NEAR BAY  \n",
       "3       558.0       219.0         5.6431            341300.0        NEAR BAY  \n",
       "4       565.0       259.0         3.8462            342200.0        NEAR BAY  "
      ]
     },
     "execution_count": 5,
     "metadata": {},
     "output_type": "execute_result"
    }
   ],
   "source": [
    "data = pd.read_csv('../input/california-housing-prices/housing.csv')\n",
    "data.head()"
   ]
  },
  {
   "cell_type": "code",
   "execution_count": 6,
   "id": "010b7db8",
   "metadata": {
    "execution": {
     "iopub.execute_input": "2022-07-13T15:16:53.788411Z",
     "iopub.status.busy": "2022-07-13T15:16:53.787945Z",
     "iopub.status.idle": "2022-07-13T15:16:53.818958Z",
     "shell.execute_reply": "2022-07-13T15:16:53.817555Z"
    },
    "papermill": {
     "duration": 0.041613,
     "end_time": "2022-07-13T15:16:53.821336",
     "exception": false,
     "start_time": "2022-07-13T15:16:53.779723",
     "status": "completed"
    },
    "tags": []
   },
   "outputs": [
    {
     "name": "stdout",
     "output_type": "stream",
     "text": [
      "<class 'pandas.core.frame.DataFrame'>\n",
      "RangeIndex: 20640 entries, 0 to 20639\n",
      "Data columns (total 10 columns):\n",
      " #   Column              Non-Null Count  Dtype  \n",
      "---  ------              --------------  -----  \n",
      " 0   longitude           20640 non-null  float64\n",
      " 1   latitude            20640 non-null  float64\n",
      " 2   housing_median_age  20640 non-null  float64\n",
      " 3   total_rooms         20640 non-null  float64\n",
      " 4   total_bedrooms      20433 non-null  float64\n",
      " 5   population          20640 non-null  float64\n",
      " 6   households          20640 non-null  float64\n",
      " 7   median_income       20640 non-null  float64\n",
      " 8   median_house_value  20640 non-null  float64\n",
      " 9   ocean_proximity     20640 non-null  object \n",
      "dtypes: float64(9), object(1)\n",
      "memory usage: 1.6+ MB\n"
     ]
    }
   ],
   "source": [
    "data.info()"
   ]
  },
  {
   "cell_type": "markdown",
   "id": "c9688c72",
   "metadata": {
    "papermill": {
     "duration": 0.006671,
     "end_time": "2022-07-13T15:16:53.835226",
     "exception": false,
     "start_time": "2022-07-13T15:16:53.828555",
     "status": "completed"
    },
    "tags": []
   },
   "source": [
    "### Data Preprocessing for our model requires:\n",
    "* making sure that there are no missing values\n",
    "* all inputs are standardized"
   ]
  },
  {
   "cell_type": "markdown",
   "id": "0d2df201",
   "metadata": {
    "papermill": {
     "duration": 0.006587,
     "end_time": "2022-07-13T15:16:53.848856",
     "exception": false,
     "start_time": "2022-07-13T15:16:53.842269",
     "status": "completed"
    },
    "tags": []
   },
   "source": [
    "**Missing Values**"
   ]
  },
  {
   "cell_type": "code",
   "execution_count": 7,
   "id": "13831ba9",
   "metadata": {
    "execution": {
     "iopub.execute_input": "2022-07-13T15:16:53.864671Z",
     "iopub.status.busy": "2022-07-13T15:16:53.864239Z",
     "iopub.status.idle": "2022-07-13T15:16:53.876715Z",
     "shell.execute_reply": "2022-07-13T15:16:53.875565Z"
    },
    "papermill": {
     "duration": 0.023069,
     "end_time": "2022-07-13T15:16:53.878839",
     "exception": false,
     "start_time": "2022-07-13T15:16:53.855770",
     "status": "completed"
    },
    "tags": []
   },
   "outputs": [
    {
     "data": {
      "text/plain": [
       "longitude               0\n",
       "latitude                0\n",
       "housing_median_age      0\n",
       "total_rooms             0\n",
       "total_bedrooms        207\n",
       "population              0\n",
       "households              0\n",
       "median_income           0\n",
       "median_house_value      0\n",
       "ocean_proximity         0\n",
       "dtype: int64"
      ]
     },
     "execution_count": 7,
     "metadata": {},
     "output_type": "execute_result"
    }
   ],
   "source": [
    "data.isna().sum()"
   ]
  },
  {
   "cell_type": "code",
   "execution_count": 8,
   "id": "cacf5cbc",
   "metadata": {
    "execution": {
     "iopub.execute_input": "2022-07-13T15:16:53.895178Z",
     "iopub.status.busy": "2022-07-13T15:16:53.894535Z",
     "iopub.status.idle": "2022-07-13T15:16:53.903963Z",
     "shell.execute_reply": "2022-07-13T15:16:53.903098Z"
    },
    "papermill": {
     "duration": 0.020472,
     "end_time": "2022-07-13T15:16:53.906415",
     "exception": false,
     "start_time": "2022-07-13T15:16:53.885943",
     "status": "completed"
    },
    "tags": []
   },
   "outputs": [],
   "source": [
    "median_bedrooms = np.median(data['total_bedrooms'][data['total_bedrooms'].notna()==True])\n",
    "\n",
    "data['total_bedrooms'].fillna(median_bedrooms, inplace=True)"
   ]
  },
  {
   "cell_type": "code",
   "execution_count": 9,
   "id": "3a883348",
   "metadata": {
    "execution": {
     "iopub.execute_input": "2022-07-13T15:16:53.923626Z",
     "iopub.status.busy": "2022-07-13T15:16:53.922942Z",
     "iopub.status.idle": "2022-07-13T15:16:53.945498Z",
     "shell.execute_reply": "2022-07-13T15:16:53.944640Z"
    },
    "papermill": {
     "duration": 0.033654,
     "end_time": "2022-07-13T15:16:53.947599",
     "exception": false,
     "start_time": "2022-07-13T15:16:53.913945",
     "status": "completed"
    },
    "tags": []
   },
   "outputs": [
    {
     "data": {
      "text/html": [
       "<div>\n",
       "<style scoped>\n",
       "    .dataframe tbody tr th:only-of-type {\n",
       "        vertical-align: middle;\n",
       "    }\n",
       "\n",
       "    .dataframe tbody tr th {\n",
       "        vertical-align: top;\n",
       "    }\n",
       "\n",
       "    .dataframe thead th {\n",
       "        text-align: right;\n",
       "    }\n",
       "</style>\n",
       "<table border=\"1\" class=\"dataframe\">\n",
       "  <thead>\n",
       "    <tr style=\"text-align: right;\">\n",
       "      <th></th>\n",
       "      <th>longitude</th>\n",
       "      <th>latitude</th>\n",
       "      <th>housing_median_age</th>\n",
       "      <th>total_rooms</th>\n",
       "      <th>total_bedrooms</th>\n",
       "      <th>population</th>\n",
       "      <th>households</th>\n",
       "      <th>median_income</th>\n",
       "      <th>median_house_value</th>\n",
       "    </tr>\n",
       "  </thead>\n",
       "  <tbody>\n",
       "    <tr>\n",
       "      <th>0</th>\n",
       "      <td>-122.23</td>\n",
       "      <td>37.88</td>\n",
       "      <td>41.0</td>\n",
       "      <td>880.0</td>\n",
       "      <td>129.0</td>\n",
       "      <td>322.0</td>\n",
       "      <td>126.0</td>\n",
       "      <td>8.3252</td>\n",
       "      <td>452600.0</td>\n",
       "    </tr>\n",
       "    <tr>\n",
       "      <th>1</th>\n",
       "      <td>-122.22</td>\n",
       "      <td>37.86</td>\n",
       "      <td>21.0</td>\n",
       "      <td>7099.0</td>\n",
       "      <td>1106.0</td>\n",
       "      <td>2401.0</td>\n",
       "      <td>1138.0</td>\n",
       "      <td>8.3014</td>\n",
       "      <td>358500.0</td>\n",
       "    </tr>\n",
       "    <tr>\n",
       "      <th>2</th>\n",
       "      <td>-122.24</td>\n",
       "      <td>37.85</td>\n",
       "      <td>52.0</td>\n",
       "      <td>1467.0</td>\n",
       "      <td>190.0</td>\n",
       "      <td>496.0</td>\n",
       "      <td>177.0</td>\n",
       "      <td>7.2574</td>\n",
       "      <td>352100.0</td>\n",
       "    </tr>\n",
       "    <tr>\n",
       "      <th>3</th>\n",
       "      <td>-122.25</td>\n",
       "      <td>37.85</td>\n",
       "      <td>52.0</td>\n",
       "      <td>1274.0</td>\n",
       "      <td>235.0</td>\n",
       "      <td>558.0</td>\n",
       "      <td>219.0</td>\n",
       "      <td>5.6431</td>\n",
       "      <td>341300.0</td>\n",
       "    </tr>\n",
       "    <tr>\n",
       "      <th>4</th>\n",
       "      <td>-122.25</td>\n",
       "      <td>37.85</td>\n",
       "      <td>52.0</td>\n",
       "      <td>1627.0</td>\n",
       "      <td>280.0</td>\n",
       "      <td>565.0</td>\n",
       "      <td>259.0</td>\n",
       "      <td>3.8462</td>\n",
       "      <td>342200.0</td>\n",
       "    </tr>\n",
       "  </tbody>\n",
       "</table>\n",
       "</div>"
      ],
      "text/plain": [
       "   longitude  latitude  housing_median_age  total_rooms  total_bedrooms  \\\n",
       "0    -122.23     37.88                41.0        880.0           129.0   \n",
       "1    -122.22     37.86                21.0       7099.0          1106.0   \n",
       "2    -122.24     37.85                52.0       1467.0           190.0   \n",
       "3    -122.25     37.85                52.0       1274.0           235.0   \n",
       "4    -122.25     37.85                52.0       1627.0           280.0   \n",
       "\n",
       "   population  households  median_income  median_house_value  \n",
       "0       322.0       126.0         8.3252            452600.0  \n",
       "1      2401.0      1138.0         8.3014            358500.0  \n",
       "2       496.0       177.0         7.2574            352100.0  \n",
       "3       558.0       219.0         5.6431            341300.0  \n",
       "4       565.0       259.0         3.8462            342200.0  "
      ]
     },
     "execution_count": 9,
     "metadata": {},
     "output_type": "execute_result"
    }
   ],
   "source": [
    "final_data = data.drop(['ocean_proximity'], axis=1)\n",
    "final_data.head()"
   ]
  },
  {
   "cell_type": "markdown",
   "id": "30d460ac",
   "metadata": {
    "papermill": {
     "duration": 0.007301,
     "end_time": "2022-07-13T15:16:53.962255",
     "exception": false,
     "start_time": "2022-07-13T15:16:53.954954",
     "status": "completed"
    },
    "tags": []
   },
   "source": [
    "**Standarization**"
   ]
  },
  {
   "cell_type": "code",
   "execution_count": 10,
   "id": "119c43b2",
   "metadata": {
    "execution": {
     "iopub.execute_input": "2022-07-13T15:16:53.979282Z",
     "iopub.status.busy": "2022-07-13T15:16:53.978837Z",
     "iopub.status.idle": "2022-07-13T15:16:53.984040Z",
     "shell.execute_reply": "2022-07-13T15:16:53.983264Z"
    },
    "papermill": {
     "duration": 0.016285,
     "end_time": "2022-07-13T15:16:53.986051",
     "exception": false,
     "start_time": "2022-07-13T15:16:53.969766",
     "status": "completed"
    },
    "tags": []
   },
   "outputs": [],
   "source": [
    "def standard(col):\n",
    "    feat = final_data[col]\n",
    "    mean = feat.mean()\n",
    "    stdev = feat.std()\n",
    "    for i in range(len(feat)):\n",
    "        feat[i] = (feat[i] - mean) / stdev\n",
    "    return feat"
   ]
  },
  {
   "cell_type": "code",
   "execution_count": 11,
   "id": "942d2234",
   "metadata": {
    "execution": {
     "iopub.execute_input": "2022-07-13T15:16:54.003202Z",
     "iopub.status.busy": "2022-07-13T15:16:54.002623Z",
     "iopub.status.idle": "2022-07-13T15:17:07.253763Z",
     "shell.execute_reply": "2022-07-13T15:17:07.252574Z"
    },
    "papermill": {
     "duration": 13.263123,
     "end_time": "2022-07-13T15:17:07.256574",
     "exception": false,
     "start_time": "2022-07-13T15:16:53.993451",
     "status": "completed"
    },
    "tags": []
   },
   "outputs": [
    {
     "data": {
      "text/html": [
       "<div>\n",
       "<style scoped>\n",
       "    .dataframe tbody tr th:only-of-type {\n",
       "        vertical-align: middle;\n",
       "    }\n",
       "\n",
       "    .dataframe tbody tr th {\n",
       "        vertical-align: top;\n",
       "    }\n",
       "\n",
       "    .dataframe thead th {\n",
       "        text-align: right;\n",
       "    }\n",
       "</style>\n",
       "<table border=\"1\" class=\"dataframe\">\n",
       "  <thead>\n",
       "    <tr style=\"text-align: right;\">\n",
       "      <th></th>\n",
       "      <th>longitude</th>\n",
       "      <th>latitude</th>\n",
       "      <th>housing_median_age</th>\n",
       "      <th>total_rooms</th>\n",
       "      <th>total_bedrooms</th>\n",
       "      <th>population</th>\n",
       "      <th>households</th>\n",
       "      <th>median_income</th>\n",
       "      <th>median_house_value</th>\n",
       "    </tr>\n",
       "  </thead>\n",
       "  <tbody>\n",
       "    <tr>\n",
       "      <th>0</th>\n",
       "      <td>-1.327803</td>\n",
       "      <td>1.052523</td>\n",
       "      <td>0.982119</td>\n",
       "      <td>-0.804800</td>\n",
       "      <td>-0.972453</td>\n",
       "      <td>-0.974405</td>\n",
       "      <td>-0.977009</td>\n",
       "      <td>2.344709</td>\n",
       "      <td>2.129580</td>\n",
       "    </tr>\n",
       "    <tr>\n",
       "      <th>1</th>\n",
       "      <td>-1.322812</td>\n",
       "      <td>1.043159</td>\n",
       "      <td>-0.607004</td>\n",
       "      <td>2.045841</td>\n",
       "      <td>1.357111</td>\n",
       "      <td>0.861418</td>\n",
       "      <td>1.669921</td>\n",
       "      <td>2.332181</td>\n",
       "      <td>1.314124</td>\n",
       "    </tr>\n",
       "    <tr>\n",
       "      <th>2</th>\n",
       "      <td>-1.332794</td>\n",
       "      <td>1.038478</td>\n",
       "      <td>1.856137</td>\n",
       "      <td>-0.535733</td>\n",
       "      <td>-0.827004</td>\n",
       "      <td>-0.820757</td>\n",
       "      <td>-0.843616</td>\n",
       "      <td>1.782656</td>\n",
       "      <td>1.258663</td>\n",
       "    </tr>\n",
       "    <tr>\n",
       "      <th>3</th>\n",
       "      <td>-1.337785</td>\n",
       "      <td>1.038478</td>\n",
       "      <td>1.856137</td>\n",
       "      <td>-0.624199</td>\n",
       "      <td>-0.719706</td>\n",
       "      <td>-0.766010</td>\n",
       "      <td>-0.733764</td>\n",
       "      <td>0.932945</td>\n",
       "      <td>1.165072</td>\n",
       "    </tr>\n",
       "    <tr>\n",
       "      <th>4</th>\n",
       "      <td>-1.337785</td>\n",
       "      <td>1.038478</td>\n",
       "      <td>1.856137</td>\n",
       "      <td>-0.462393</td>\n",
       "      <td>-0.612408</td>\n",
       "      <td>-0.759828</td>\n",
       "      <td>-0.629142</td>\n",
       "      <td>-0.012881</td>\n",
       "      <td>1.172871</td>\n",
       "    </tr>\n",
       "  </tbody>\n",
       "</table>\n",
       "</div>"
      ],
      "text/plain": [
       "   longitude  latitude  housing_median_age  total_rooms  total_bedrooms  \\\n",
       "0  -1.327803  1.052523            0.982119    -0.804800       -0.972453   \n",
       "1  -1.322812  1.043159           -0.607004     2.045841        1.357111   \n",
       "2  -1.332794  1.038478            1.856137    -0.535733       -0.827004   \n",
       "3  -1.337785  1.038478            1.856137    -0.624199       -0.719706   \n",
       "4  -1.337785  1.038478            1.856137    -0.462393       -0.612408   \n",
       "\n",
       "   population  households  median_income  median_house_value  \n",
       "0   -0.974405   -0.977009       2.344709            2.129580  \n",
       "1    0.861418    1.669921       2.332181            1.314124  \n",
       "2   -0.820757   -0.843616       1.782656            1.258663  \n",
       "3   -0.766010   -0.733764       0.932945            1.165072  \n",
       "4   -0.759828   -0.629142      -0.012881            1.172871  "
      ]
     },
     "execution_count": 11,
     "metadata": {},
     "output_type": "execute_result"
    }
   ],
   "source": [
    "import warnings\n",
    "warnings.filterwarnings('ignore')\n",
    "\n",
    "features = final_data.columns.values.tolist()\n",
    "for i in features:\n",
    "    final_data[i] = standard(i)\n",
    "final_data.head()"
   ]
  },
  {
   "cell_type": "code",
   "execution_count": 12,
   "id": "3de7b721",
   "metadata": {
    "execution": {
     "iopub.execute_input": "2022-07-13T15:17:07.274028Z",
     "iopub.status.busy": "2022-07-13T15:17:07.273626Z",
     "iopub.status.idle": "2022-07-13T15:17:07.284873Z",
     "shell.execute_reply": "2022-07-13T15:17:07.283877Z"
    },
    "papermill": {
     "duration": 0.023194,
     "end_time": "2022-07-13T15:17:07.287451",
     "exception": false,
     "start_time": "2022-07-13T15:17:07.264257",
     "status": "completed"
    },
    "tags": []
   },
   "outputs": [],
   "source": [
    "X = final_data.iloc[:,0:8]\n",
    "y = final_data.iloc[:,8]\n",
    "\n",
    "X_train, X_test, y_train, y_test = train_test_split(X, y, test_size=0.30, random_state=1)"
   ]
  },
  {
   "cell_type": "markdown",
   "id": "8778484a",
   "metadata": {
    "papermill": {
     "duration": 0.00752,
     "end_time": "2022-07-13T15:17:07.302669",
     "exception": false,
     "start_time": "2022-07-13T15:17:07.295149",
     "status": "completed"
    },
    "tags": []
   },
   "source": [
    "Our data is now ready for the model"
   ]
  },
  {
   "cell_type": "code",
   "execution_count": 13,
   "id": "4258025e",
   "metadata": {
    "execution": {
     "iopub.execute_input": "2022-07-13T15:17:07.319941Z",
     "iopub.status.busy": "2022-07-13T15:17:07.319317Z",
     "iopub.status.idle": "2022-07-13T15:17:24.603585Z",
     "shell.execute_reply": "2022-07-13T15:17:24.602419Z"
    },
    "papermill": {
     "duration": 17.297529,
     "end_time": "2022-07-13T15:17:24.607824",
     "exception": false,
     "start_time": "2022-07-13T15:17:07.310295",
     "status": "completed"
    },
    "tags": []
   },
   "outputs": [
    {
     "name": "stdout",
     "output_type": "stream",
     "text": [
      "Weights for the feature variables: [-0.74419571 -0.78640524  0.1269726  -0.15008413  0.35006097 -0.3697617\n",
      "  0.20869846  0.67039664]\n",
      "Bias: 0.005\n",
      "==================================================\n",
      "Root Mean Squared Error: 0.6073\n",
      "==================================================\n",
      "R-squared: 0.6265\n",
      "Adjusted R-squared: 0.6263\n"
     ]
    }
   ],
   "source": [
    "lr1 = Linear_Regression(learning_rate = 0.255, iterations=10000)\n",
    "lr1.fit(X_train, y_train)\n",
    "predictions = lr1.predict(X_test)\n",
    "rmse1 = lr1.rmse(y_test, predictions)\n",
    "rsq1 = lr1.r_squared(y_test, predictions)\n",
    "a_rsq1 = lr1.adjusted_r_squared(y_test, predictions)\n",
    "\n",
    "print(f\"Weights for the feature variables: {lr1.weights}\")\n",
    "print(f\"Bias: {lr1.bias:.3f}\")\n",
    "print('='*50)\n",
    "print(f'Root Mean Squared Error: {rmse1:.4f}')\n",
    "print('='*50)\n",
    "print(f'R-squared: {rsq1:.4f}')\n",
    "print(f'Adjusted R-squared: {a_rsq1:.4f}')"
   ]
  },
  {
   "cell_type": "markdown",
   "id": "b522fd6d",
   "metadata": {
    "papermill": {
     "duration": 0.014716,
     "end_time": "2022-07-13T15:17:24.637749",
     "exception": false,
     "start_time": "2022-07-13T15:17:24.623033",
     "status": "completed"
    },
    "tags": []
   },
   "source": [
    "### Plotting the regression line\n",
    "We use Median Income to visualize our regression line with the Median house value"
   ]
  },
  {
   "cell_type": "code",
   "execution_count": 14,
   "id": "e61b641f",
   "metadata": {
    "execution": {
     "iopub.execute_input": "2022-07-13T15:17:24.670538Z",
     "iopub.status.busy": "2022-07-13T15:17:24.669868Z",
     "iopub.status.idle": "2022-07-13T15:17:25.157685Z",
     "shell.execute_reply": "2022-07-13T15:17:25.156743Z"
    },
    "papermill": {
     "duration": 0.507464,
     "end_time": "2022-07-13T15:17:25.160486",
     "exception": false,
     "start_time": "2022-07-13T15:17:24.653022",
     "status": "completed"
    },
    "tags": []
   },
   "outputs": [
    {
     "data": {
      "image/png": "[encoded data removed]",
      "text/plain": [
       "<Figure size 1296x864 with 1 Axes>"
      ]
     },
     "metadata": {
      "needs_background": "light"
     },
     "output_type": "display_data"
    }
   ],
   "source": [
    "X1 = X.sample(500, random_state=1)\n",
    "y1 = y.sample(500, random_state=1)\n",
    "\n",
    "\n",
    "plt.figure(figsize=(18,12))\n",
    "sns.regplot(x=X1['median_income'], y=y1, data=final_data)\n",
    "plt.show()"
   ]
  },
  {
   "cell_type": "markdown",
   "id": "b3e532b3",
   "metadata": {
    "papermill": {
     "duration": 0.008481,
     "end_time": "2022-07-13T15:17:25.177750",
     "exception": false,
     "start_time": "2022-07-13T15:17:25.169269",
     "status": "completed"
    },
    "tags": []
   },
   "source": [
    "The model seems to have worked well. It could definitely be better, there's always room for improvement, but this achieves the task - Linear Regression from scratch. <br>This is the best way to solidify your understanding of a machine learning model - building it yourself."
   ]
  }
 ],
 "metadata": {
  "kernelspec": {
   "display_name": "Python 3",
   "language": "python",
   "name": "python3"
  },
  "language_info": {
   "codemirror_mode": {
    "name": "ipython",
    "version": 3
   },
   "file_extension": ".py",
   "mimetype": "text/x-python",
   "name": "python",
   "nbconvert_exporter": "python",
   "pygments_lexer": "ipython3",
   "version": "3.7.12"
  },
  "papermill": {
   "default_parameters": {},
   "duration": 44.991008,
   "end_time": "2022-07-13T15:17:26.009036",
   "environment_variables": {},
   "exception": null,
   "input_path": "__notebook__.ipynb",
   "output_path": "__notebook__.ipynb",
   "parameters": {},
   "start_time": "2022-07-13T15:16:41.018028",
   "version": "2.3.4"
  }
 },
 "nbformat": 4,
 "nbformat_minor": 5
}
